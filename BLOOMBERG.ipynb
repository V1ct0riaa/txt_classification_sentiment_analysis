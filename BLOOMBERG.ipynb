{
 "cells": [
  {
   "cell_type": "markdown",
   "id": "f76cdc5d13f5e974",
   "metadata": {},
   "source": [
    "<center>\n",
    "<img src=\"https://drive.google.com/uc?id=1f1gGVI-rxcHjA90WEGNvvtSXF1pAxQwg\" alt=\"Fasilkom UI\" width=\"300\"/>\n",
    "\n",
    "Tutorial 2\n",
    "\n",
    "Natanael Pascal Simbolon\n",
    "\n",
    "2106751764\n",
    "\n",
    "CSIE604284 • Analitika Media Sosial\n",
    "\n",
    "Semester Gasal 2025/2026\n",
    "\n",
    "Fakultas Ilmu Komputer, Universitas Indonesia\n",
    "\n"
   ]
  },
  {
   "cell_type": "markdown",
   "id": "34e4a3e3",
   "metadata": {},
   "source": [
    "# Package Installation"
   ]
  },
  {
   "cell_type": "code",
   "execution_count": 1,
   "id": "initial_id",
   "metadata": {
    "collapsed": true
   },
   "outputs": [
    {
     "name": "stdout",
     "output_type": "stream",
     "text": [
      "Requirement already satisfied: requests in c:\\users\\pascal\\anaconda3\\lib\\site-packages (2.32.3)\n",
      "Requirement already satisfied: beautifulsoup4 in c:\\users\\pascal\\anaconda3\\lib\\site-packages (4.12.3)\n",
      "Requirement already satisfied: pandas in c:\\users\\pascal\\anaconda3\\lib\\site-packages (2.2.2)\n",
      "Requirement already satisfied: charset-normalizer<4,>=2 in c:\\users\\pascal\\anaconda3\\lib\\site-packages (from requests) (3.3.2)\n",
      "Requirement already satisfied: idna<4,>=2.5 in c:\\users\\pascal\\anaconda3\\lib\\site-packages (from requests) (3.7)\n",
      "Requirement already satisfied: urllib3<3,>=1.21.1 in c:\\users\\pascal\\anaconda3\\lib\\site-packages (from requests) (2.2.3)\n",
      "Requirement already satisfied: certifi>=2017.4.17 in c:\\users\\pascal\\anaconda3\\lib\\site-packages (from requests) (2025.1.31)\n",
      "Requirement already satisfied: soupsieve>1.2 in c:\\users\\pascal\\anaconda3\\lib\\site-packages (from beautifulsoup4) (2.5)\n",
      "Requirement already satisfied: numpy>=1.26.0 in c:\\users\\pascal\\anaconda3\\lib\\site-packages (from pandas) (1.26.4)\n",
      "Requirement already satisfied: python-dateutil>=2.8.2 in c:\\users\\pascal\\anaconda3\\lib\\site-packages (from pandas) (2.9.0.post0)\n",
      "Requirement already satisfied: pytz>=2020.1 in c:\\users\\pascal\\anaconda3\\lib\\site-packages (from pandas) (2024.1)\n",
      "Requirement already satisfied: tzdata>=2022.7 in c:\\users\\pascal\\anaconda3\\lib\\site-packages (from pandas) (2023.3)\n",
      "Requirement already satisfied: six>=1.5 in c:\\users\\pascal\\anaconda3\\lib\\site-packages (from python-dateutil>=2.8.2->pandas) (1.16.0)\n"
     ]
    }
   ],
   "source": [
    "!pip install requests beautifulsoup4 pandas"
   ]
  },
  {
   "cell_type": "code",
   "execution_count": 2,
   "id": "7b14c212",
   "metadata": {},
   "outputs": [
    {
     "name": "stdout",
     "output_type": "stream",
     "text": [
      "Requirement already satisfied: bertopic in c:\\users\\pascal\\anaconda3\\lib\\site-packages (0.17.3)\n",
      "Requirement already satisfied: hdbscan>=0.8.29 in c:\\users\\pascal\\anaconda3\\lib\\site-packages (from bertopic) (0.8.40)\n",
      "Requirement already satisfied: umap-learn>=0.5.0 in c:\\users\\pascal\\anaconda3\\lib\\site-packages (from bertopic) (0.5.9.post2)\n",
      "Requirement already satisfied: numpy>=1.20.0 in c:\\users\\pascal\\anaconda3\\lib\\site-packages (from bertopic) (1.26.4)\n",
      "Requirement already satisfied: pandas>=1.1.5 in c:\\users\\pascal\\anaconda3\\lib\\site-packages (from bertopic) (2.2.2)\n",
      "Requirement already satisfied: plotly>=4.7.0 in c:\\users\\pascal\\anaconda3\\lib\\site-packages (from bertopic) (5.24.1)\n",
      "Requirement already satisfied: scikit-learn>=1.0 in c:\\users\\pascal\\anaconda3\\lib\\site-packages (from bertopic) (1.7.2)\n",
      "Requirement already satisfied: sentence-transformers>=0.4.1 in c:\\users\\pascal\\anaconda3\\lib\\site-packages (from bertopic) (5.1.1)\n",
      "Requirement already satisfied: tqdm>=4.41.1 in c:\\users\\pascal\\anaconda3\\lib\\site-packages (from bertopic) (4.66.5)\n",
      "Requirement already satisfied: llvmlite>0.36.0 in c:\\users\\pascal\\anaconda3\\lib\\site-packages (from bertopic) (0.43.0)\n",
      "Requirement already satisfied: scipy>=1.0 in c:\\users\\pascal\\anaconda3\\lib\\site-packages (from hdbscan>=0.8.29->bertopic) (1.13.1)\n",
      "Requirement already satisfied: joblib>=1.0 in c:\\users\\pascal\\anaconda3\\lib\\site-packages (from hdbscan>=0.8.29->bertopic) (1.4.2)\n",
      "Requirement already satisfied: python-dateutil>=2.8.2 in c:\\users\\pascal\\anaconda3\\lib\\site-packages (from pandas>=1.1.5->bertopic) (2.9.0.post0)\n",
      "Requirement already satisfied: pytz>=2020.1 in c:\\users\\pascal\\anaconda3\\lib\\site-packages (from pandas>=1.1.5->bertopic) (2024.1)\n",
      "Requirement already satisfied: tzdata>=2022.7 in c:\\users\\pascal\\anaconda3\\lib\\site-packages (from pandas>=1.1.5->bertopic) (2023.3)\n",
      "Requirement already satisfied: tenacity>=6.2.0 in c:\\users\\pascal\\anaconda3\\lib\\site-packages (from plotly>=4.7.0->bertopic) (8.2.3)\n",
      "Requirement already satisfied: packaging in c:\\users\\pascal\\anaconda3\\lib\\site-packages (from plotly>=4.7.0->bertopic) (24.1)\n",
      "Requirement already satisfied: threadpoolctl>=3.1.0 in c:\\users\\pascal\\anaconda3\\lib\\site-packages (from scikit-learn>=1.0->bertopic) (3.5.0)\n",
      "Requirement already satisfied: transformers<5.0.0,>=4.41.0 in c:\\users\\pascal\\anaconda3\\lib\\site-packages (from sentence-transformers>=0.4.1->bertopic) (4.57.0)\n",
      "Requirement already satisfied: torch>=1.11.0 in c:\\users\\pascal\\anaconda3\\lib\\site-packages (from sentence-transformers>=0.4.1->bertopic) (2.8.0)\n",
      "Requirement already satisfied: huggingface-hub>=0.20.0 in c:\\users\\pascal\\anaconda3\\lib\\site-packages (from sentence-transformers>=0.4.1->bertopic) (0.35.3)\n",
      "Requirement already satisfied: Pillow in c:\\users\\pascal\\anaconda3\\lib\\site-packages (from sentence-transformers>=0.4.1->bertopic) (10.4.0)\n",
      "Requirement already satisfied: typing_extensions>=4.5.0 in c:\\users\\pascal\\anaconda3\\lib\\site-packages (from sentence-transformers>=0.4.1->bertopic) (4.11.0)\n",
      "Requirement already satisfied: colorama in c:\\users\\pascal\\anaconda3\\lib\\site-packages (from tqdm>=4.41.1->bertopic) (0.4.6)\n",
      "Requirement already satisfied: numba>=0.51.2 in c:\\users\\pascal\\anaconda3\\lib\\site-packages (from umap-learn>=0.5.0->bertopic) (0.60.0)\n",
      "Requirement already satisfied: pynndescent>=0.5 in c:\\users\\pascal\\anaconda3\\lib\\site-packages (from umap-learn>=0.5.0->bertopic) (0.5.13)\n",
      "Requirement already satisfied: filelock in c:\\users\\pascal\\anaconda3\\lib\\site-packages (from huggingface-hub>=0.20.0->sentence-transformers>=0.4.1->bertopic) (3.13.1)\n",
      "Requirement already satisfied: fsspec>=2023.5.0 in c:\\users\\pascal\\anaconda3\\lib\\site-packages (from huggingface-hub>=0.20.0->sentence-transformers>=0.4.1->bertopic) (2024.6.1)\n",
      "Requirement already satisfied: pyyaml>=5.1 in c:\\users\\pascal\\anaconda3\\lib\\site-packages (from huggingface-hub>=0.20.0->sentence-transformers>=0.4.1->bertopic) (6.0.1)\n",
      "Requirement already satisfied: requests in c:\\users\\pascal\\anaconda3\\lib\\site-packages (from huggingface-hub>=0.20.0->sentence-transformers>=0.4.1->bertopic) (2.32.3)\n",
      "Requirement already satisfied: six>=1.5 in c:\\users\\pascal\\anaconda3\\lib\\site-packages (from python-dateutil>=2.8.2->pandas>=1.1.5->bertopic) (1.16.0)\n",
      "Requirement already satisfied: sympy>=1.13.3 in c:\\users\\pascal\\anaconda3\\lib\\site-packages (from torch>=1.11.0->sentence-transformers>=0.4.1->bertopic) (1.14.0)\n",
      "Requirement already satisfied: networkx in c:\\users\\pascal\\anaconda3\\lib\\site-packages (from torch>=1.11.0->sentence-transformers>=0.4.1->bertopic) (3.3)\n",
      "Requirement already satisfied: jinja2 in c:\\users\\pascal\\anaconda3\\lib\\site-packages (from torch>=1.11.0->sentence-transformers>=0.4.1->bertopic) (3.1.4)\n",
      "Requirement already satisfied: setuptools in c:\\users\\pascal\\anaconda3\\lib\\site-packages (from torch>=1.11.0->sentence-transformers>=0.4.1->bertopic) (75.1.0)\n",
      "Requirement already satisfied: regex!=2019.12.17 in c:\\users\\pascal\\anaconda3\\lib\\site-packages (from transformers<5.0.0,>=4.41.0->sentence-transformers>=0.4.1->bertopic) (2024.9.11)\n",
      "Requirement already satisfied: tokenizers<=0.23.0,>=0.22.0 in c:\\users\\pascal\\anaconda3\\lib\\site-packages (from transformers<5.0.0,>=4.41.0->sentence-transformers>=0.4.1->bertopic) (0.22.1)\n",
      "Requirement already satisfied: safetensors>=0.4.3 in c:\\users\\pascal\\anaconda3\\lib\\site-packages (from transformers<5.0.0,>=4.41.0->sentence-transformers>=0.4.1->bertopic) (0.6.2)\n",
      "Requirement already satisfied: mpmath<1.4,>=1.1.0 in c:\\users\\pascal\\anaconda3\\lib\\site-packages (from sympy>=1.13.3->torch>=1.11.0->sentence-transformers>=0.4.1->bertopic) (1.3.0)\n",
      "Requirement already satisfied: MarkupSafe>=2.0 in c:\\users\\pascal\\anaconda3\\lib\\site-packages (from jinja2->torch>=1.11.0->sentence-transformers>=0.4.1->bertopic) (2.1.3)\n",
      "Requirement already satisfied: charset-normalizer<4,>=2 in c:\\users\\pascal\\anaconda3\\lib\\site-packages (from requests->huggingface-hub>=0.20.0->sentence-transformers>=0.4.1->bertopic) (3.3.2)\n",
      "Requirement already satisfied: idna<4,>=2.5 in c:\\users\\pascal\\anaconda3\\lib\\site-packages (from requests->huggingface-hub>=0.20.0->sentence-transformers>=0.4.1->bertopic) (3.7)\n",
      "Requirement already satisfied: urllib3<3,>=1.21.1 in c:\\users\\pascal\\anaconda3\\lib\\site-packages (from requests->huggingface-hub>=0.20.0->sentence-transformers>=0.4.1->bertopic) (2.2.3)\n",
      "Requirement already satisfied: certifi>=2017.4.17 in c:\\users\\pascal\\anaconda3\\lib\\site-packages (from requests->huggingface-hub>=0.20.0->sentence-transformers>=0.4.1->bertopic) (2025.1.31)\n"
     ]
    }
   ],
   "source": [
    "!pip install bertopic\n"
   ]
  },
  {
   "cell_type": "code",
   "execution_count": 3,
   "id": "5a790602",
   "metadata": {},
   "outputs": [
    {
     "name": "stdout",
     "output_type": "stream",
     "text": [
      "Requirement already satisfied: transformers in c:\\users\\pascal\\anaconda3\\lib\\site-packages (4.57.0)\n",
      "Requirement already satisfied: filelock in c:\\users\\pascal\\anaconda3\\lib\\site-packages (from transformers) (3.13.1)\n",
      "Requirement already satisfied: huggingface-hub<1.0,>=0.34.0 in c:\\users\\pascal\\anaconda3\\lib\\site-packages (from transformers) (0.35.3)\n",
      "Requirement already satisfied: numpy>=1.17 in c:\\users\\pascal\\anaconda3\\lib\\site-packages (from transformers) (1.26.4)\n",
      "Requirement already satisfied: packaging>=20.0 in c:\\users\\pascal\\anaconda3\\lib\\site-packages (from transformers) (24.1)\n",
      "Requirement already satisfied: pyyaml>=5.1 in c:\\users\\pascal\\anaconda3\\lib\\site-packages (from transformers) (6.0.1)\n",
      "Requirement already satisfied: regex!=2019.12.17 in c:\\users\\pascal\\anaconda3\\lib\\site-packages (from transformers) (2024.9.11)\n",
      "Requirement already satisfied: requests in c:\\users\\pascal\\anaconda3\\lib\\site-packages (from transformers) (2.32.3)\n",
      "Requirement already satisfied: tokenizers<=0.23.0,>=0.22.0 in c:\\users\\pascal\\anaconda3\\lib\\site-packages (from transformers) (0.22.1)\n",
      "Requirement already satisfied: safetensors>=0.4.3 in c:\\users\\pascal\\anaconda3\\lib\\site-packages (from transformers) (0.6.2)\n",
      "Requirement already satisfied: tqdm>=4.27 in c:\\users\\pascal\\anaconda3\\lib\\site-packages (from transformers) (4.66.5)\n",
      "Requirement already satisfied: fsspec>=2023.5.0 in c:\\users\\pascal\\anaconda3\\lib\\site-packages (from huggingface-hub<1.0,>=0.34.0->transformers) (2024.6.1)\n",
      "Requirement already satisfied: typing-extensions>=3.7.4.3 in c:\\users\\pascal\\anaconda3\\lib\\site-packages (from huggingface-hub<1.0,>=0.34.0->transformers) (4.11.0)\n",
      "Requirement already satisfied: colorama in c:\\users\\pascal\\anaconda3\\lib\\site-packages (from tqdm>=4.27->transformers) (0.4.6)\n",
      "Requirement already satisfied: charset-normalizer<4,>=2 in c:\\users\\pascal\\anaconda3\\lib\\site-packages (from requests->transformers) (3.3.2)\n",
      "Requirement already satisfied: idna<4,>=2.5 in c:\\users\\pascal\\anaconda3\\lib\\site-packages (from requests->transformers) (3.7)\n",
      "Requirement already satisfied: urllib3<3,>=1.21.1 in c:\\users\\pascal\\anaconda3\\lib\\site-packages (from requests->transformers) (2.2.3)\n",
      "Requirement already satisfied: certifi>=2017.4.17 in c:\\users\\pascal\\anaconda3\\lib\\site-packages (from requests->transformers) (2025.1.31)\n"
     ]
    }
   ],
   "source": [
    "!pip install transformers\n",
    "\n"
   ]
  },
  {
   "cell_type": "markdown",
   "id": "076e818f",
   "metadata": {},
   "source": [
    "# Web Scrapping"
   ]
  },
  {
   "cell_type": "markdown",
   "id": "d0ff167b",
   "metadata": {},
   "source": [
    "## Implementasi Scrapping"
   ]
  },
  {
   "cell_type": "code",
   "execution_count": 4,
   "id": "e449b2c7",
   "metadata": {},
   "outputs": [
    {
     "name": "stdout",
     "output_type": "stream",
     "text": [
      "Total articles found: 15\n"
     ]
    }
   ],
   "source": [
    "import requests\n",
    "from bs4 import BeautifulSoup\n",
    "\n",
    "# mengambil data dari website bloomberg\n",
    "url = \"https://www.bloombergtechnoz.com/\"\n",
    "headers = {\"User-Agent\": \n",
    "           \"WebScrapingDemo/1.0 (contact: email@domain.com)\"} # menggunakan user-agent\n",
    "res = requests.get(url, headers=headers)\n",
    "\n",
    "soup = BeautifulSoup(res.content, 'html.parser')\n",
    "items = soup.find_all('div', class_=\"card-box ft150 margin-bottom-xl\")\n",
    "len_items = len(items)\n",
    "\n",
    "print(f\"Total articles found: {len_items}\")"
   ]
  },
  {
   "cell_type": "code",
   "execution_count": 5,
   "id": "00823334",
   "metadata": {},
   "outputs": [
    {
     "name": "stdout",
     "output_type": "stream",
     "text": [
      "Title: PTRO Buka Opsi Tambah Modal Lewat Right Issue & Private Placement\n",
      "Link: https://www.bloombergtechnoz.com/detail-news/86218/ptro-buka-opsi-tambah-modal-lewat-right-issue-private-placement\n",
      "----------------------------------------\n",
      "Title: Purbaya Sidak, Bank Mandiri Minta Tambahan Dana\n",
      "Link: https://www.bloombergtechnoz.com/detail-news/86216/purbaya-sidak-bank-mandiri-minta-tambahan-dana\n",
      "----------------------------------------\n",
      "Title: Polemik PPP Selesai, Mardiono Angkat Agus Suparmanto jadi Waketum\n",
      "Link: https://www.bloombergtechnoz.com/detail-news/86214/polemik-ppp-selesai-mardiono-angkat-agus-suparmanto-jadi-waketum\n",
      "----------------------------------------\n",
      "Title: ESDM Sebut Campuran Etanol Buat Kerek Nilai Oktan Bensin\n",
      "Link: https://www.bloombergtechnoz.com/detail-news/86219/esdm-sebut-campuran-etanol-buat-kerek-nilai-oktan-bensin\n",
      "----------------------------------------\n",
      "Title: Revisi UU PPSK, Ekonom Soroti Dampak LPS Harus Lapor ke DPR\n",
      "Link: https://www.bloombergtechnoz.com/detail-news/86211/revisi-uu-ppsk-ekonom-soroti-dampak-lps-harus-lapor-ke-dpr\n",
      "----------------------------------------\n",
      "Title: Kemendag: Meski Sudah Turun, Harga Minyakita Masih Lampaui HET\n",
      "Link: https://www.bloombergtechnoz.com/detail-news/86207/kemendag-meski-sudah-turun-harga-minyakita-masih-lampaui-het\n",
      "----------------------------------------\n",
      "Title: KB Pakai Pinjaman Induk Rp3 Triliun untuk Refinancing\n",
      "Link: https://www.bloombergtechnoz.com/detail-news/86206/kb-pakai-pinjaman-induk-rp3-triliun-untuk-refinancing\n",
      "----------------------------------------\n",
      "Title: Rupiah Ditutup Melemah Usai Reli 6 Hari\n",
      "Link: https://www.bloombergtechnoz.com/detail-news/86217/rupiah-ditutup-melemah-usai-reli-6-hari\n",
      "----------------------------------------\n",
      "Title: KB Bank Pakai Pinjaman Rp3 T dari Induk untuk Perkuat Permodalan\n",
      "Link: https://www.bloombergtechnoz.com/detail-news/86215/kb-bank-pakai-pinjaman-rp3-t-dari-induk-untuk-perkuat-permodalan\n",
      "----------------------------------------\n",
      "Title: Kronologi Korupsi PLTU Kalbar Jerat Eks Dirut PLN Fahmi Mochtar\n",
      "Link: https://www.bloombergtechnoz.com/detail-news/86210/kronologi-korupsi-pltu-kalbar-jerat-eks-dirut-pln-fahmi-mochtar\n",
      "----------------------------------------\n",
      "Title: Bank Mandiri Klaim Sudah Salurkan 63% dari Dana Menkeu Purbaya\n",
      "Link: https://www.bloombergtechnoz.com/detail-news/86201/bank-mandiri-klaim-sudah-salurkan-63-dari-dana-menkeu-purbaya\n",
      "----------------------------------------\n",
      "Title: Alasan KB Bank (BBKP) Tunjuk Darma Lie Sebagai Direktur Utama\n",
      "Link: https://www.bloombergtechnoz.com/detail-news/86212/alasan-kb-bank-bbkp-tunjuk-darma-lie-sebagai-direktur-utama\n",
      "----------------------------------------\n",
      "Title: Rencana Akuisisi Toyota Terganjal Kajian Persaingan Usaha\n",
      "Link: https://www.bloombergtechnoz.com/detail-news/86199/rencana-akuisisi-toyota-terganjal-kajian-persaingan-usaha\n",
      "----------------------------------------\n",
      "Title: Pemerintah Tambah Minyak 2L untuk Bantuan Pangan Oktober-November\n",
      "Link: https://www.bloombergtechnoz.com/detail-news/86195/pemerintah-tambah-minyak-2l-untuk-bantuan-pangan-oktober-november\n",
      "----------------------------------------\n",
      "Title: Melemah Hampir Sepanjang Hari, IHSG Finis di Zona Hijau\n",
      "Link: https://www.bloombergtechnoz.com/detail-news/86209/melemah-hampir-sepanjang-hari-ihsg-finis-di-zona-hijau\n",
      "----------------------------------------\n",
      "Total links acquired: 15\n"
     ]
    }
   ],
   "source": [
    "links = [] # menaruh link dari berita yang ada pada bloomberg ke list links\n",
    "\n",
    "for item in items:\n",
    "    # pastikan elemen <a> ada\n",
    "    a_tag = item.find('a')\n",
    "    title_tag = item.find('h2', class_='title margin-bottom-xs')\n",
    "    \n",
    "    if not a_tag or not title_tag:\n",
    "        print(\"Missing title or link, skipping this item.\")\n",
    "        continue\n",
    "\n",
    "    link_news = a_tag.get('href')\n",
    "    links.append(link_news)\n",
    "    title = title_tag.get_text(strip=True)\n",
    "    \n",
    "    print(f\"Title: {title}\")\n",
    "    print(f\"Link: {link_news}\")\n",
    "    print(\"-\" * 40)\n",
    "\n",
    "print(\"Total links acquired:\", len(links))\n",
    "    "
   ]
  },
  {
   "cell_type": "code",
   "execution_count": 34,
   "id": "aac2e1de",
   "metadata": {},
   "outputs": [
    {
     "data": {
      "text/html": [
       "<div>\n",
       "<style scoped>\n",
       "    .dataframe tbody tr th:only-of-type {\n",
       "        vertical-align: middle;\n",
       "    }\n",
       "\n",
       "    .dataframe tbody tr th {\n",
       "        vertical-align: top;\n",
       "    }\n",
       "\n",
       "    .dataframe thead th {\n",
       "        text-align: right;\n",
       "    }\n",
       "</style>\n",
       "<table border=\"1\" class=\"dataframe\">\n",
       "  <thead>\n",
       "    <tr style=\"text-align: right;\">\n",
       "      <th></th>\n",
       "      <th>title</th>\n",
       "      <th>link</th>\n",
       "      <th>content</th>\n",
       "    </tr>\n",
       "  </thead>\n",
       "  <tbody>\n",
       "    <tr>\n",
       "      <th>0</th>\n",
       "      <td>PTRO Buka Opsi Tambah Modal Lewat Right Issue ...</td>\n",
       "      <td>https://www.bloombergtechnoz.com/detail-news/8...</td>\n",
       "      <td>Bloomberg Technoz, Jakarta- PT Petrosea Tbk (P...</td>\n",
       "    </tr>\n",
       "    <tr>\n",
       "      <th>1</th>\n",
       "      <td>Purbaya Sidak, Bank Mandiri Minta Tambahan Dan...</td>\n",
       "      <td>https://www.bloombergtechnoz.com/detail-news/8...</td>\n",
       "      <td>Bloomberg Technoz, Jakarta- Menteri Keuangan P...</td>\n",
       "    </tr>\n",
       "    <tr>\n",
       "      <th>2</th>\n",
       "      <td>Polemik PPP Selesai, Mardiono Angkat Agus Supa...</td>\n",
       "      <td>https://www.bloombergtechnoz.com/detail-news/8...</td>\n",
       "      <td>Bloomberg Technoz, Jakarta- Menteri Hukum Supr...</td>\n",
       "    </tr>\n",
       "    <tr>\n",
       "      <th>3</th>\n",
       "      <td>ESDM Sebut Campuran Etanol Buat Kerek Nilai Ok...</td>\n",
       "      <td>https://www.bloombergtechnoz.com/detail-news/8...</td>\n",
       "      <td>Bloomberg Technoz, Jakarta- Dirjen EBTKE Kemen...</td>\n",
       "    </tr>\n",
       "    <tr>\n",
       "      <th>4</th>\n",
       "      <td>Revisi UU PPSK, Ekonom Soroti Dampak LPS Harus...</td>\n",
       "      <td>https://www.bloombergtechnoz.com/detail-news/8...</td>\n",
       "      <td>Bloomberg Technoz, Jakarta- Ekonom Universitas...</td>\n",
       "    </tr>\n",
       "  </tbody>\n",
       "</table>\n",
       "</div>"
      ],
      "text/plain": [
       "                                               title  \\\n",
       "0  PTRO Buka Opsi Tambah Modal Lewat Right Issue ...   \n",
       "1  Purbaya Sidak, Bank Mandiri Minta Tambahan Dan...   \n",
       "2  Polemik PPP Selesai, Mardiono Angkat Agus Supa...   \n",
       "3  ESDM Sebut Campuran Etanol Buat Kerek Nilai Ok...   \n",
       "4  Revisi UU PPSK, Ekonom Soroti Dampak LPS Harus...   \n",
       "\n",
       "                                                link  \\\n",
       "0  https://www.bloombergtechnoz.com/detail-news/8...   \n",
       "1  https://www.bloombergtechnoz.com/detail-news/8...   \n",
       "2  https://www.bloombergtechnoz.com/detail-news/8...   \n",
       "3  https://www.bloombergtechnoz.com/detail-news/8...   \n",
       "4  https://www.bloombergtechnoz.com/detail-news/8...   \n",
       "\n",
       "                                             content  \n",
       "0  Bloomberg Technoz, Jakarta- PT Petrosea Tbk (P...  \n",
       "1  Bloomberg Technoz, Jakarta- Menteri Keuangan P...  \n",
       "2  Bloomberg Technoz, Jakarta- Menteri Hukum Supr...  \n",
       "3  Bloomberg Technoz, Jakarta- Dirjen EBTKE Kemen...  \n",
       "4  Bloomberg Technoz, Jakarta- Ekonom Universitas...  "
      ]
     },
     "execution_count": 34,
     "metadata": {},
     "output_type": "execute_result"
    }
   ],
   "source": [
    "import pandas as pd\n",
    "data = []  # list untuk menyimpan data artikel\n",
    "for link in links:\n",
    "    res = requests.get(link, headers=headers, timeout=15)\n",
    "    res.raise_for_status()\n",
    "    soup = BeautifulSoup(res.content, 'html.parser')\n",
    "\n",
    "    # mengambil judul artikel\n",
    "    title_tag = soup.find('div', class_='judul-artikel margin-bottom-xs')\n",
    "    title = title_tag.get_text(strip=True) if title_tag else \"Judul tidak ditemukan\"\n",
    "\n",
    "    # mengambil isi artikel \n",
    "    content_div = soup.find('div', class_='detail-in')\n",
    "    paragraphs = content_div.find_all('p')   \n",
    "    content = \"\\n\".join(p.get_text(strip=True) for p in paragraphs)\n",
    "\n",
    "    #print(f\"News Title: {title}\")\n",
    "    #print(\"=\" * 40)\n",
    "    #print(\"Content:\\n\", content[:1000], \"...\\n\")\n",
    "\n",
    "    data.append({\n",
    "        \"title\": title,\n",
    "        \"link\": link,\n",
    "        \"content\": content\n",
    "    })\n",
    "\n",
    "# membuat DataFrame dari data yang telah dikumpulkan\n",
    "df = pd.DataFrame(data)\n",
    "\n",
    "# simpan ke CSV\n",
    "df.to_csv(\"scraped_news.csv\", index=False, encoding='utf-8-sig')\n",
    "df.head()"
   ]
  }
 ],
 "metadata": {
  "kernelspec": {
   "display_name": "base",
   "language": "python",
   "name": "python3"
  },
  "language_info": {
   "codemirror_mode": {
    "name": "ipython",
    "version": 3
   },
   "file_extension": ".py",
   "mimetype": "text/x-python",
   "name": "python",
   "nbconvert_exporter": "python",
   "pygments_lexer": "ipython3",
   "version": "3.12.7"
  }
 },
 "nbformat": 4,
 "nbformat_minor": 5
}
