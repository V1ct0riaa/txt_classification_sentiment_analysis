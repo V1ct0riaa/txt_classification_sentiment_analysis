{
 "cells": [
  {
   "cell_type": "markdown",
   "id": "f76cdc5d13f5e974",
   "metadata": {},
   "source": [
    "<center>\n",
    "<img src=\"https://drive.google.com/uc?id=1f1gGVI-rxcHjA90WEGNvvtSXF1pAxQwg\" alt=\"Fasilkom UI\" width=\"300\"/>\n",
    "\n",
    "Tutorial 2\n",
    "\n",
    "Natanael Pascal Simbolon\n",
    "\n",
    "2106751764\n",
    "\n",
    "CSIE604284 • Analitika Media Sosial\n",
    "\n",
    "Semester Gasal 2025/2026\n",
    "\n",
    "Fakultas Ilmu Komputer, Universitas Indonesia\n",
    "\n"
   ]
  },
  {
   "cell_type": "markdown",
   "id": "34e4a3e3",
   "metadata": {},
   "source": [
    "# Package Installation"
   ]
  },
  {
   "cell_type": "code",
   "execution_count": 1,
   "id": "initial_id",
   "metadata": {
    "collapsed": true
   },
   "outputs": [
    {
     "name": "stdout",
     "output_type": "stream",
     "text": [
      "Requirement already satisfied: requests in c:\\kuliah\\semester8\\anmedsos\\tutorial 2\\.venv\\lib\\site-packages (2.32.5)\n",
      "Requirement already satisfied: beautifulsoup4 in c:\\kuliah\\semester8\\anmedsos\\tutorial 2\\.venv\\lib\\site-packages (4.14.2)\n",
      "Requirement already satisfied: pandas in c:\\kuliah\\semester8\\anmedsos\\tutorial 2\\.venv\\lib\\site-packages (2.3.3)\n",
      "Requirement already satisfied: charset_normalizer<4,>=2 in c:\\kuliah\\semester8\\anmedsos\\tutorial 2\\.venv\\lib\\site-packages (from requests) (3.4.3)\n",
      "Requirement already satisfied: idna<4,>=2.5 in c:\\kuliah\\semester8\\anmedsos\\tutorial 2\\.venv\\lib\\site-packages (from requests) (3.10)\n",
      "Requirement already satisfied: urllib3<3,>=1.21.1 in c:\\kuliah\\semester8\\anmedsos\\tutorial 2\\.venv\\lib\\site-packages (from requests) (2.5.0)\n",
      "Requirement already satisfied: certifi>=2017.4.17 in c:\\kuliah\\semester8\\anmedsos\\tutorial 2\\.venv\\lib\\site-packages (from requests) (2025.8.3)\n",
      "Requirement already satisfied: soupsieve>1.2 in c:\\kuliah\\semester8\\anmedsos\\tutorial 2\\.venv\\lib\\site-packages (from beautifulsoup4) (2.8)\n",
      "Requirement already satisfied: typing-extensions>=4.0.0 in c:\\kuliah\\semester8\\anmedsos\\tutorial 2\\.venv\\lib\\site-packages (from beautifulsoup4) (4.15.0)\n",
      "Requirement already satisfied: numpy>=1.26.0 in c:\\kuliah\\semester8\\anmedsos\\tutorial 2\\.venv\\lib\\site-packages (from pandas) (2.3.3)\n",
      "Requirement already satisfied: python-dateutil>=2.8.2 in c:\\kuliah\\semester8\\anmedsos\\tutorial 2\\.venv\\lib\\site-packages (from pandas) (2.9.0.post0)\n",
      "Requirement already satisfied: pytz>=2020.1 in c:\\kuliah\\semester8\\anmedsos\\tutorial 2\\.venv\\lib\\site-packages (from pandas) (2025.2)\n",
      "Requirement already satisfied: tzdata>=2022.7 in c:\\kuliah\\semester8\\anmedsos\\tutorial 2\\.venv\\lib\\site-packages (from pandas) (2025.2)\n",
      "Requirement already satisfied: six>=1.5 in c:\\kuliah\\semester8\\anmedsos\\tutorial 2\\.venv\\lib\\site-packages (from python-dateutil>=2.8.2->pandas) (1.17.0)\n"
     ]
    }
   ],
   "source": [
    "!pip install requests beautifulsoup4 pandas"
   ]
  },
  {
   "cell_type": "code",
   "execution_count": 2,
   "id": "7b14c212",
   "metadata": {},
   "outputs": [
    {
     "name": "stdout",
     "output_type": "stream",
     "text": [
      "Requirement already satisfied: bertopic in c:\\kuliah\\semester8\\anmedsos\\tutorial 2\\.venv\\lib\\site-packages (0.17.3)\n",
      "Requirement already satisfied: hdbscan>=0.8.29 in c:\\kuliah\\semester8\\anmedsos\\tutorial 2\\.venv\\lib\\site-packages (from bertopic) (0.8.40)\n",
      "Requirement already satisfied: umap-learn>=0.5.0 in c:\\kuliah\\semester8\\anmedsos\\tutorial 2\\.venv\\lib\\site-packages (from bertopic) (0.5.9.post2)\n",
      "Requirement already satisfied: numpy>=1.20.0 in c:\\kuliah\\semester8\\anmedsos\\tutorial 2\\.venv\\lib\\site-packages (from bertopic) (2.3.3)\n",
      "Requirement already satisfied: pandas>=1.1.5 in c:\\kuliah\\semester8\\anmedsos\\tutorial 2\\.venv\\lib\\site-packages (from bertopic) (2.3.3)\n",
      "Requirement already satisfied: plotly>=4.7.0 in c:\\kuliah\\semester8\\anmedsos\\tutorial 2\\.venv\\lib\\site-packages (from bertopic) (6.3.1)\n",
      "Requirement already satisfied: scikit-learn>=1.0 in c:\\kuliah\\semester8\\anmedsos\\tutorial 2\\.venv\\lib\\site-packages (from bertopic) (1.7.2)\n",
      "Requirement already satisfied: sentence-transformers>=0.4.1 in c:\\kuliah\\semester8\\anmedsos\\tutorial 2\\.venv\\lib\\site-packages (from bertopic) (5.1.1)\n",
      "Requirement already satisfied: tqdm>=4.41.1 in c:\\kuliah\\semester8\\anmedsos\\tutorial 2\\.venv\\lib\\site-packages (from bertopic) (4.67.1)\n",
      "Requirement already satisfied: llvmlite>0.36.0 in c:\\kuliah\\semester8\\anmedsos\\tutorial 2\\.venv\\lib\\site-packages (from bertopic) (0.45.1)\n",
      "Requirement already satisfied: scipy>=1.0 in c:\\kuliah\\semester8\\anmedsos\\tutorial 2\\.venv\\lib\\site-packages (from hdbscan>=0.8.29->bertopic) (1.16.2)\n",
      "Requirement already satisfied: joblib>=1.0 in c:\\kuliah\\semester8\\anmedsos\\tutorial 2\\.venv\\lib\\site-packages (from hdbscan>=0.8.29->bertopic) (1.5.2)\n",
      "Requirement already satisfied: python-dateutil>=2.8.2 in c:\\kuliah\\semester8\\anmedsos\\tutorial 2\\.venv\\lib\\site-packages (from pandas>=1.1.5->bertopic) (2.9.0.post0)\n",
      "Requirement already satisfied: pytz>=2020.1 in c:\\kuliah\\semester8\\anmedsos\\tutorial 2\\.venv\\lib\\site-packages (from pandas>=1.1.5->bertopic) (2025.2)\n",
      "Requirement already satisfied: tzdata>=2022.7 in c:\\kuliah\\semester8\\anmedsos\\tutorial 2\\.venv\\lib\\site-packages (from pandas>=1.1.5->bertopic) (2025.2)\n",
      "Requirement already satisfied: narwhals>=1.15.1 in c:\\kuliah\\semester8\\anmedsos\\tutorial 2\\.venv\\lib\\site-packages (from plotly>=4.7.0->bertopic) (2.6.0)\n",
      "Requirement already satisfied: packaging in c:\\kuliah\\semester8\\anmedsos\\tutorial 2\\.venv\\lib\\site-packages (from plotly>=4.7.0->bertopic) (25.0)\n",
      "Requirement already satisfied: six>=1.5 in c:\\kuliah\\semester8\\anmedsos\\tutorial 2\\.venv\\lib\\site-packages (from python-dateutil>=2.8.2->pandas>=1.1.5->bertopic) (1.17.0)\n",
      "Requirement already satisfied: threadpoolctl>=3.1.0 in c:\\kuliah\\semester8\\anmedsos\\tutorial 2\\.venv\\lib\\site-packages (from scikit-learn>=1.0->bertopic) (3.6.0)\n",
      "Requirement already satisfied: transformers<5.0.0,>=4.41.0 in c:\\kuliah\\semester8\\anmedsos\\tutorial 2\\.venv\\lib\\site-packages (from sentence-transformers>=0.4.1->bertopic) (4.57.0)\n",
      "Requirement already satisfied: torch>=1.11.0 in c:\\kuliah\\semester8\\anmedsos\\tutorial 2\\.venv\\lib\\site-packages (from sentence-transformers>=0.4.1->bertopic) (2.8.0)\n",
      "Requirement already satisfied: huggingface-hub>=0.20.0 in c:\\kuliah\\semester8\\anmedsos\\tutorial 2\\.venv\\lib\\site-packages (from sentence-transformers>=0.4.1->bertopic) (0.35.3)\n",
      "Requirement already satisfied: Pillow in c:\\kuliah\\semester8\\anmedsos\\tutorial 2\\.venv\\lib\\site-packages (from sentence-transformers>=0.4.1->bertopic) (11.3.0)\n",
      "Requirement already satisfied: typing_extensions>=4.5.0 in c:\\kuliah\\semester8\\anmedsos\\tutorial 2\\.venv\\lib\\site-packages (from sentence-transformers>=0.4.1->bertopic) (4.15.0)\n",
      "Requirement already satisfied: filelock in c:\\kuliah\\semester8\\anmedsos\\tutorial 2\\.venv\\lib\\site-packages (from transformers<5.0.0,>=4.41.0->sentence-transformers>=0.4.1->bertopic) (3.19.1)\n",
      "Requirement already satisfied: pyyaml>=5.1 in c:\\kuliah\\semester8\\anmedsos\\tutorial 2\\.venv\\lib\\site-packages (from transformers<5.0.0,>=4.41.0->sentence-transformers>=0.4.1->bertopic) (6.0.3)\n",
      "Requirement already satisfied: regex!=2019.12.17 in c:\\kuliah\\semester8\\anmedsos\\tutorial 2\\.venv\\lib\\site-packages (from transformers<5.0.0,>=4.41.0->sentence-transformers>=0.4.1->bertopic) (2025.9.18)\n",
      "Requirement already satisfied: requests in c:\\kuliah\\semester8\\anmedsos\\tutorial 2\\.venv\\lib\\site-packages (from transformers<5.0.0,>=4.41.0->sentence-transformers>=0.4.1->bertopic) (2.32.5)\n",
      "Requirement already satisfied: tokenizers<=0.23.0,>=0.22.0 in c:\\kuliah\\semester8\\anmedsos\\tutorial 2\\.venv\\lib\\site-packages (from transformers<5.0.0,>=4.41.0->sentence-transformers>=0.4.1->bertopic) (0.22.1)\n",
      "Requirement already satisfied: safetensors>=0.4.3 in c:\\kuliah\\semester8\\anmedsos\\tutorial 2\\.venv\\lib\\site-packages (from transformers<5.0.0,>=4.41.0->sentence-transformers>=0.4.1->bertopic) (0.6.2)\n",
      "Requirement already satisfied: fsspec>=2023.5.0 in c:\\kuliah\\semester8\\anmedsos\\tutorial 2\\.venv\\lib\\site-packages (from huggingface-hub>=0.20.0->sentence-transformers>=0.4.1->bertopic) (2025.9.0)\n",
      "Requirement already satisfied: sympy>=1.13.3 in c:\\kuliah\\semester8\\anmedsos\\tutorial 2\\.venv\\lib\\site-packages (from torch>=1.11.0->sentence-transformers>=0.4.1->bertopic) (1.14.0)\n",
      "Requirement already satisfied: networkx in c:\\kuliah\\semester8\\anmedsos\\tutorial 2\\.venv\\lib\\site-packages (from torch>=1.11.0->sentence-transformers>=0.4.1->bertopic) (3.5)\n",
      "Requirement already satisfied: jinja2 in c:\\kuliah\\semester8\\anmedsos\\tutorial 2\\.venv\\lib\\site-packages (from torch>=1.11.0->sentence-transformers>=0.4.1->bertopic) (3.1.6)\n",
      "Requirement already satisfied: setuptools in c:\\kuliah\\semester8\\anmedsos\\tutorial 2\\.venv\\lib\\site-packages (from torch>=1.11.0->sentence-transformers>=0.4.1->bertopic) (80.9.0)\n",
      "Requirement already satisfied: mpmath<1.4,>=1.1.0 in c:\\kuliah\\semester8\\anmedsos\\tutorial 2\\.venv\\lib\\site-packages (from sympy>=1.13.3->torch>=1.11.0->sentence-transformers>=0.4.1->bertopic) (1.3.0)\n",
      "Requirement already satisfied: colorama in c:\\kuliah\\semester8\\anmedsos\\tutorial 2\\.venv\\lib\\site-packages (from tqdm>=4.41.1->bertopic) (0.4.6)\n",
      "Requirement already satisfied: numba>=0.51.2 in c:\\kuliah\\semester8\\anmedsos\\tutorial 2\\.venv\\lib\\site-packages (from umap-learn>=0.5.0->bertopic) (0.62.1)\n",
      "Requirement already satisfied: pynndescent>=0.5 in c:\\kuliah\\semester8\\anmedsos\\tutorial 2\\.venv\\lib\\site-packages (from umap-learn>=0.5.0->bertopic) (0.5.13)\n",
      "Requirement already satisfied: MarkupSafe>=2.0 in c:\\kuliah\\semester8\\anmedsos\\tutorial 2\\.venv\\lib\\site-packages (from jinja2->torch>=1.11.0->sentence-transformers>=0.4.1->bertopic) (3.0.3)\n",
      "Requirement already satisfied: charset_normalizer<4,>=2 in c:\\kuliah\\semester8\\anmedsos\\tutorial 2\\.venv\\lib\\site-packages (from requests->transformers<5.0.0,>=4.41.0->sentence-transformers>=0.4.1->bertopic) (3.4.3)\n",
      "Requirement already satisfied: idna<4,>=2.5 in c:\\kuliah\\semester8\\anmedsos\\tutorial 2\\.venv\\lib\\site-packages (from requests->transformers<5.0.0,>=4.41.0->sentence-transformers>=0.4.1->bertopic) (3.10)\n",
      "Requirement already satisfied: urllib3<3,>=1.21.1 in c:\\kuliah\\semester8\\anmedsos\\tutorial 2\\.venv\\lib\\site-packages (from requests->transformers<5.0.0,>=4.41.0->sentence-transformers>=0.4.1->bertopic) (2.5.0)\n",
      "Requirement already satisfied: certifi>=2017.4.17 in c:\\kuliah\\semester8\\anmedsos\\tutorial 2\\.venv\\lib\\site-packages (from requests->transformers<5.0.0,>=4.41.0->sentence-transformers>=0.4.1->bertopic) (2025.8.3)\n"
     ]
    }
   ],
   "source": [
    "!pip install bertopic\n"
   ]
  },
  {
   "cell_type": "code",
   "execution_count": 3,
   "id": "5a790602",
   "metadata": {},
   "outputs": [
    {
     "name": "stdout",
     "output_type": "stream",
     "text": [
      "Requirement already satisfied: transformers in c:\\kuliah\\semester8\\anmedsos\\tutorial 2\\.venv\\lib\\site-packages (4.57.0)\n",
      "Requirement already satisfied: filelock in c:\\kuliah\\semester8\\anmedsos\\tutorial 2\\.venv\\lib\\site-packages (from transformers) (3.19.1)\n",
      "Requirement already satisfied: huggingface-hub<1.0,>=0.34.0 in c:\\kuliah\\semester8\\anmedsos\\tutorial 2\\.venv\\lib\\site-packages (from transformers) (0.35.3)\n",
      "Requirement already satisfied: numpy>=1.17 in c:\\kuliah\\semester8\\anmedsos\\tutorial 2\\.venv\\lib\\site-packages (from transformers) (2.3.3)\n",
      "Requirement already satisfied: packaging>=20.0 in c:\\kuliah\\semester8\\anmedsos\\tutorial 2\\.venv\\lib\\site-packages (from transformers) (25.0)\n",
      "Requirement already satisfied: pyyaml>=5.1 in c:\\kuliah\\semester8\\anmedsos\\tutorial 2\\.venv\\lib\\site-packages (from transformers) (6.0.3)\n",
      "Requirement already satisfied: regex!=2019.12.17 in c:\\kuliah\\semester8\\anmedsos\\tutorial 2\\.venv\\lib\\site-packages (from transformers) (2025.9.18)\n",
      "Requirement already satisfied: requests in c:\\kuliah\\semester8\\anmedsos\\tutorial 2\\.venv\\lib\\site-packages (from transformers) (2.32.5)\n",
      "Requirement already satisfied: tokenizers<=0.23.0,>=0.22.0 in c:\\kuliah\\semester8\\anmedsos\\tutorial 2\\.venv\\lib\\site-packages (from transformers) (0.22.1)\n",
      "Requirement already satisfied: safetensors>=0.4.3 in c:\\kuliah\\semester8\\anmedsos\\tutorial 2\\.venv\\lib\\site-packages (from transformers) (0.6.2)\n",
      "Requirement already satisfied: tqdm>=4.27 in c:\\kuliah\\semester8\\anmedsos\\tutorial 2\\.venv\\lib\\site-packages (from transformers) (4.67.1)\n",
      "Requirement already satisfied: fsspec>=2023.5.0 in c:\\kuliah\\semester8\\anmedsos\\tutorial 2\\.venv\\lib\\site-packages (from huggingface-hub<1.0,>=0.34.0->transformers) (2025.9.0)\n",
      "Requirement already satisfied: typing-extensions>=3.7.4.3 in c:\\kuliah\\semester8\\anmedsos\\tutorial 2\\.venv\\lib\\site-packages (from huggingface-hub<1.0,>=0.34.0->transformers) (4.15.0)\n",
      "Requirement already satisfied: colorama in c:\\kuliah\\semester8\\anmedsos\\tutorial 2\\.venv\\lib\\site-packages (from tqdm>=4.27->transformers) (0.4.6)\n",
      "Requirement already satisfied: charset_normalizer<4,>=2 in c:\\kuliah\\semester8\\anmedsos\\tutorial 2\\.venv\\lib\\site-packages (from requests->transformers) (3.4.3)\n",
      "Requirement already satisfied: idna<4,>=2.5 in c:\\kuliah\\semester8\\anmedsos\\tutorial 2\\.venv\\lib\\site-packages (from requests->transformers) (3.10)\n",
      "Requirement already satisfied: urllib3<3,>=1.21.1 in c:\\kuliah\\semester8\\anmedsos\\tutorial 2\\.venv\\lib\\site-packages (from requests->transformers) (2.5.0)\n",
      "Requirement already satisfied: certifi>=2017.4.17 in c:\\kuliah\\semester8\\anmedsos\\tutorial 2\\.venv\\lib\\site-packages (from requests->transformers) (2025.8.3)\n"
     ]
    }
   ],
   "source": [
    "!pip install transformers\n",
    "\n"
   ]
  },
  {
   "cell_type": "markdown",
   "id": "076e818f",
   "metadata": {},
   "source": [
    "# Web Scrapping"
   ]
  },
  {
   "cell_type": "markdown",
   "id": "9324dda5",
   "metadata": {},
   "source": [
    "## A"
   ]
  },
  {
   "cell_type": "code",
   "execution_count": null,
   "id": "e449b2c7",
   "metadata": {},
   "outputs": [],
   "source": []
  }
 ],
 "metadata": {
  "kernelspec": {
   "display_name": ".venv",
   "language": "python",
   "name": "python3"
  },
  "language_info": {
   "codemirror_mode": {
    "name": "ipython",
    "version": 3
   },
   "file_extension": ".py",
   "mimetype": "text/x-python",
   "name": "python",
   "nbconvert_exporter": "python",
   "pygments_lexer": "ipython3",
   "version": "3.12.7"
  }
 },
 "nbformat": 4,
 "nbformat_minor": 5
}
