{
 "cells": [
  {
   "cell_type": "markdown",
   "id": "f76cdc5d13f5e974",
   "metadata": {},
   "source": [
    "<center>\n",
    "<img src=\"https://drive.google.com/uc?id=1f1gGVI-rxcHjA90WEGNvvtSXF1pAxQwg\" alt=\"Fasilkom UI\" width=\"300\"/>\n",
    "\n",
    "Tutorial 2\n",
    "\n",
    "Natanael Pascal Simbolon\n",
    "\n",
    "2106751764\n",
    "\n",
    "CSIE604284 • Analitika Media Sosial\n",
    "\n",
    "Semester Gasal 2025/2026\n",
    "\n",
    "Fakultas Ilmu Komputer, Universitas Indonesia\n",
    "\n"
   ]
  },
  {
   "cell_type": "markdown",
   "id": "34e4a3e3",
   "metadata": {},
   "source": [
    "# Package Installation"
   ]
  },
  {
   "cell_type": "code",
   "execution_count": null,
   "id": "initial_id",
   "metadata": {
    "collapsed": true
   },
   "outputs": [
    {
     "name": "stdout",
     "output_type": "stream",
     "text": [
      "Requirement already satisfied: requests in c:\\users\\pascal\\anaconda3\\lib\\site-packages (2.32.3)\n",
      "Requirement already satisfied: beautifulsoup4 in c:\\users\\pascal\\anaconda3\\lib\\site-packages (4.12.3)\n",
      "Requirement already satisfied: pandas in c:\\users\\pascal\\anaconda3\\lib\\site-packages (2.2.2)\n",
      "Requirement already satisfied: charset-normalizer<4,>=2 in c:\\users\\pascal\\anaconda3\\lib\\site-packages (from requests) (3.3.2)\n",
      "Requirement already satisfied: idna<4,>=2.5 in c:\\users\\pascal\\anaconda3\\lib\\site-packages (from requests) (3.7)\n",
      "Requirement already satisfied: urllib3<3,>=1.21.1 in c:\\users\\pascal\\anaconda3\\lib\\site-packages (from requests) (2.2.3)\n",
      "Requirement already satisfied: certifi>=2017.4.17 in c:\\users\\pascal\\anaconda3\\lib\\site-packages (from requests) (2025.1.31)\n",
      "Requirement already satisfied: soupsieve>1.2 in c:\\users\\pascal\\anaconda3\\lib\\site-packages (from beautifulsoup4) (2.5)\n",
      "Requirement already satisfied: numpy>=1.26.0 in c:\\users\\pascal\\anaconda3\\lib\\site-packages (from pandas) (1.26.4)\n",
      "Requirement already satisfied: python-dateutil>=2.8.2 in c:\\users\\pascal\\anaconda3\\lib\\site-packages (from pandas) (2.9.0.post0)\n",
      "Requirement already satisfied: pytz>=2020.1 in c:\\users\\pascal\\anaconda3\\lib\\site-packages (from pandas) (2024.1)\n",
      "Requirement already satisfied: tzdata>=2022.7 in c:\\users\\pascal\\anaconda3\\lib\\site-packages (from pandas) (2023.3)\n",
      "Requirement already satisfied: six>=1.5 in c:\\users\\pascal\\anaconda3\\lib\\site-packages (from python-dateutil>=2.8.2->pandas) (1.16.0)\n"
     ]
    }
   ],
   "source": [
    "!pip install requests beautifulsoup4 pandas\n",
    "!pip install bertopic\n",
    "!pip install transformers\n"
   ]
  },
  {
   "cell_type": "markdown",
   "id": "076e818f",
   "metadata": {},
   "source": [
    "# Web Scrapping"
   ]
  },
  {
   "cell_type": "markdown",
   "id": "b4347741",
   "metadata": {},
   "source": [
    "## Scraping berita dari Bloombergtechnoz"
   ]
  },
  {
   "cell_type": "markdown",
   "id": "82eda974",
   "metadata": {},
   "source": [
    "### Imports"
   ]
  },
  {
   "cell_type": "code",
   "execution_count": 14,
   "id": "38cd5eb5",
   "metadata": {},
   "outputs": [],
   "source": [
    "import matplotlib.pyplot as plt\n",
    "import requests\n",
    "import pandas as pd\n",
    "from bs4 import BeautifulSoup\n",
    "from bertopic import BERTopic\n",
    "from tqdm import tqdm\n",
    "from transformers import pipeline\n",
    "from sentence_transformers import SentenceTransformer\n",
    "\n",
    "from selenium import webdriver\n",
    "from selenium.webdriver.chrome.options import Options\n",
    "from selenium.webdriver.common.by import By\n",
    "import pandas as pd\n",
    "import time"
   ]
  },
  {
   "cell_type": "markdown",
   "id": "a989431b",
   "metadata": {},
   "source": [
    "### Implementasi Scraping pada Website berita Bloombergtechnoz"
   ]
  },
  {
   "cell_type": "code",
   "execution_count": 15,
   "id": "aba4250e",
   "metadata": {},
   "outputs": [
    {
     "name": "stdout",
     "output_type": "stream",
     "text": [
      "Total link berita ditemukan: 36\n"
     ]
    }
   ],
   "source": [
    "headers = {\"User-Agent\": \"WebScrapingDemo/1.0 (contact: email@domain.com)\"}\n",
    "url = \"https://www.bloombergtechnoz.com/\"\n",
    "res = requests.get(url, headers=headers)\n",
    "soup = BeautifulSoup(res.text, \"html.parser\")\n",
    "\n",
    "links = []\n",
    "for a in soup.find_all(\"a\", href=True):\n",
    "    href = a[\"href\"]\n",
    "    if \"bloombergtechnoz.com\" in href and \"/detail-news/\" in href:\n",
    "        links.append(href)\n",
    "\n",
    "# buang duplikat\n",
    "links = list(set(links))\n",
    "\n",
    "print(\"Total link berita ditemukan:\", len(links))"
   ]
  },
  {
   "cell_type": "markdown",
   "id": "34bffdeb",
   "metadata": {},
   "source": [
    "Saya melakukan perubahan pada function scrape_artikel yang sudah diberikan pada demo tutorial sebelumnya. Saya menyesuaikan function scrape_article dengan menggunakan Selenium WebDriver. HTML milik Bloombergtechnoz agak rumit karena paragraf dari isi konten artikel dipisah karena kadang ada iklan atau link di tengah-tengahnya. Untuk alur pengambilan atribut isi, judul, dan link sama saja seperti function scrape_article sebelumnya. Hanya saja saya menyesuaikan untuk mengambil isi konten dari Bloombergtechnoz. Apabila saya menggunakan function scrape_article yang sama seperti dari demo, hanya beberapa bagian dari isi konten yang dapat diambil karena HTML Blombergtechnoz banyak div, class hingga JS lazy-load."
   ]
  },
  {
   "cell_type": "code",
   "execution_count": 19,
   "id": "6fa52ef9",
   "metadata": {},
   "outputs": [],
   "source": [
    "def scrape_article(link):\n",
    "    try:\n",
    "        opts = Options()\n",
    "        opts.add_argument(\"--headless=new\")\n",
    "        opts.add_argument(\"--no-sandbox\")\n",
    "        opts.add_argument(\"--disable-gpu\")\n",
    "        opts.add_argument(\"--window-size=1280,3000\")\n",
    "\n",
    "        driver = webdriver.Chrome(options=opts)\n",
    "        driver.get(link)\n",
    "\n",
    "        # untuk scroll page\n",
    "        last_height = driver.execute_script(\"return document.body.scrollHeight\")\n",
    "        for _ in range(6):\n",
    "            driver.execute_script(\"window.scrollTo(0, document.body.scrollHeight);\")\n",
    "            time.sleep(2)\n",
    "            new_height = driver.execute_script(\"return document.body.scrollHeight\")\n",
    "            if new_height == last_height:\n",
    "                break\n",
    "            last_height = new_height\n",
    "\n",
    "        soup = BeautifulSoup(driver.page_source, \"html.parser\")\n",
    "        driver.quit()\n",
    "\n",
    "        # Mengambil judul\n",
    "        # Mencari h1 yang menjadi heading untuk title pada website Bloombergtechnoz\n",
    "        h1 = soup.find(\"h1\", class_=\"title margin-bottom-sm\")\n",
    "        title_tag = h1 \n",
    "        title = title_tag.get_text(strip=True) if title_tag else \"Judul tidak ditemukan\"\n",
    "\n",
    "        paragraphs = [p.get_text(\" \", strip=True)\n",
    "                      for p in soup.select(\".detail-in p\")\n",
    "                      if p.get_text(strip=True)]\n",
    "\n",
    "        content = \" \".join(paragraphs)\n",
    "        return {\"judul\": title, \"isi\": content, \"link\": link}\n",
    "\n",
    "    except Exception as e:\n",
    "        print(f\"[SKIP] {link} | {e}\")\n",
    "        return None\n",
    "\n",
    "\n",
    "data = [scrape_article(u) for u in links]\n",
    "data = [d for d in data if d and d[\"isi\"]]\n",
    "\n",
    "df = pd.DataFrame(data)\n",
    "df.to_csv(\"scraped_news.csv\", index=False, encoding=\"utf-8-sig\")"
   ]
  },
  {
   "cell_type": "markdown",
   "id": "7f2e480c",
   "metadata": {},
   "source": [
    "# Analisis dengan Pretrained Model Untuk Klasifikasi"
   ]
  },
  {
   "cell_type": "markdown",
   "id": "7a661795",
   "metadata": {},
   "source": [
    "### Menggunakan IndoBERT dan BERTopic"
   ]
  },
  {
   "cell_type": "code",
   "execution_count": 67,
   "id": "95087af4",
   "metadata": {},
   "outputs": [
    {
     "name": "stdout",
     "output_type": "stream",
     "text": [
      "Requirement already satisfied: transformers in c:\\users\\pascal\\anaconda3\\lib\\site-packages (4.57.0)\n",
      "Requirement already satisfied: torch in c:\\users\\pascal\\anaconda3\\lib\\site-packages (2.8.0)\n",
      "Requirement already satisfied: filelock in c:\\users\\pascal\\anaconda3\\lib\\site-packages (from transformers) (3.13.1)\n",
      "Requirement already satisfied: huggingface-hub<1.0,>=0.34.0 in c:\\users\\pascal\\anaconda3\\lib\\site-packages (from transformers) (0.35.3)\n",
      "Requirement already satisfied: numpy>=1.17 in c:\\users\\pascal\\anaconda3\\lib\\site-packages (from transformers) (1.26.4)\n",
      "Requirement already satisfied: packaging>=20.0 in c:\\users\\pascal\\anaconda3\\lib\\site-packages (from transformers) (24.1)\n",
      "Requirement already satisfied: pyyaml>=5.1 in c:\\users\\pascal\\anaconda3\\lib\\site-packages (from transformers) (6.0.1)\n",
      "Requirement already satisfied: regex!=2019.12.17 in c:\\users\\pascal\\anaconda3\\lib\\site-packages (from transformers) (2024.9.11)\n",
      "Requirement already satisfied: requests in c:\\users\\pascal\\anaconda3\\lib\\site-packages (from transformers) (2.32.3)\n",
      "Requirement already satisfied: tokenizers<=0.23.0,>=0.22.0 in c:\\users\\pascal\\anaconda3\\lib\\site-packages (from transformers) (0.22.1)\n",
      "Requirement already satisfied: safetensors>=0.4.3 in c:\\users\\pascal\\anaconda3\\lib\\site-packages (from transformers) (0.6.2)\n",
      "Requirement already satisfied: tqdm>=4.27 in c:\\users\\pascal\\anaconda3\\lib\\site-packages (from transformers) (4.66.5)\n",
      "Requirement already satisfied: typing-extensions>=4.10.0 in c:\\users\\pascal\\anaconda3\\lib\\site-packages (from torch) (4.11.0)\n",
      "Requirement already satisfied: sympy>=1.13.3 in c:\\users\\pascal\\anaconda3\\lib\\site-packages (from torch) (1.14.0)\n",
      "Requirement already satisfied: networkx in c:\\users\\pascal\\anaconda3\\lib\\site-packages (from torch) (3.3)\n",
      "Requirement already satisfied: jinja2 in c:\\users\\pascal\\anaconda3\\lib\\site-packages (from torch) (3.1.4)\n",
      "Requirement already satisfied: fsspec in c:\\users\\pascal\\anaconda3\\lib\\site-packages (from torch) (2024.6.1)\n",
      "Requirement already satisfied: setuptools in c:\\users\\pascal\\anaconda3\\lib\\site-packages (from torch) (75.1.0)\n",
      "Requirement already satisfied: mpmath<1.4,>=1.1.0 in c:\\users\\pascal\\anaconda3\\lib\\site-packages (from sympy>=1.13.3->torch) (1.3.0)\n",
      "Requirement already satisfied: colorama in c:\\users\\pascal\\anaconda3\\lib\\site-packages (from tqdm>=4.27->transformers) (0.4.6)\n",
      "Requirement already satisfied: MarkupSafe>=2.0 in c:\\users\\pascal\\anaconda3\\lib\\site-packages (from jinja2->torch) (2.1.3)\n",
      "Requirement already satisfied: charset-normalizer<4,>=2 in c:\\users\\pascal\\anaconda3\\lib\\site-packages (from requests->transformers) (3.3.2)\n",
      "Requirement already satisfied: idna<4,>=2.5 in c:\\users\\pascal\\anaconda3\\lib\\site-packages (from requests->transformers) (3.7)\n",
      "Requirement already satisfied: urllib3<3,>=1.21.1 in c:\\users\\pascal\\anaconda3\\lib\\site-packages (from requests->transformers) (2.2.3)\n",
      "Requirement already satisfied: certifi>=2017.4.17 in c:\\users\\pascal\\anaconda3\\lib\\site-packages (from requests->transformers) (2025.1.31)\n"
     ]
    }
   ],
   "source": [
    "!pip install transformers torch --upgrade"
   ]
  },
  {
   "cell_type": "markdown",
   "id": "f1231f89",
   "metadata": {},
   "source": [
    "### Load data hasil scraping sebelumnya"
   ]
  },
  {
   "cell_type": "code",
   "execution_count": 20,
   "id": "4b3b672a",
   "metadata": {},
   "outputs": [
    {
     "name": "stdout",
     "output_type": "stream",
     "text": [
      "Jumlah artikel: 36\n"
     ]
    },
    {
     "data": {
      "text/html": [
       "<div>\n",
       "<style scoped>\n",
       "    .dataframe tbody tr th:only-of-type {\n",
       "        vertical-align: middle;\n",
       "    }\n",
       "\n",
       "    .dataframe tbody tr th {\n",
       "        vertical-align: top;\n",
       "    }\n",
       "\n",
       "    .dataframe thead th {\n",
       "        text-align: right;\n",
       "    }\n",
       "</style>\n",
       "<table border=\"1\" class=\"dataframe\">\n",
       "  <thead>\n",
       "    <tr style=\"text-align: right;\">\n",
       "      <th></th>\n",
       "      <th>judul</th>\n",
       "      <th>isi</th>\n",
       "      <th>link</th>\n",
       "    </tr>\n",
       "  </thead>\n",
       "  <tbody>\n",
       "    <tr>\n",
       "      <th>0</th>\n",
       "      <td>Anthropic Sampai Harus Buka Kantor di India De...</td>\n",
       "      <td>Saritha Rai-Bloomberg News Bloomberg, Anthropi...</td>\n",
       "      <td>https://www.bloombergtechnoz.com/detail-news/8...</td>\n",
       "    </tr>\n",
       "    <tr>\n",
       "      <th>1</th>\n",
       "      <td>Sidang Perdana Gugatan Kelangkaan BBM Shell dk...</td>\n",
       "      <td>Bloomberg Technoz, Jakarta – Menteri Energi da...</td>\n",
       "      <td>https://www.bloombergtechnoz.com/detail-news/8...</td>\n",
       "    </tr>\n",
       "    <tr>\n",
       "      <th>2</th>\n",
       "      <td>Respons Rosan Soal Stimulus Likuiditas Pasar M...</td>\n",
       "      <td>Bloomberg Technoz, Jakarta - CEO Badan Pengelo...</td>\n",
       "      <td>https://www.bloombergtechnoz.com/detail-news/8...</td>\n",
       "    </tr>\n",
       "    <tr>\n",
       "      <th>3</th>\n",
       "      <td>Kata Jaksa Soal Isi Pemeriksaan 2 Perwakilan G...</td>\n",
       "      <td>Bloomberg Technoz, Jakarta - Kejaksaan Agung b...</td>\n",
       "      <td>https://www.bloombergtechnoz.com/detail-news/8...</td>\n",
       "    </tr>\n",
       "    <tr>\n",
       "      <th>4</th>\n",
       "      <td>Daftar Negara Pemilik Emas Terbanyak di Dunia,...</td>\n",
       "      <td>Bloomberg Technoz, Jakarta - Harga emas dunia ...</td>\n",
       "      <td>https://www.bloombergtechnoz.com/detail-news/8...</td>\n",
       "    </tr>\n",
       "  </tbody>\n",
       "</table>\n",
       "</div>"
      ],
      "text/plain": [
       "                                               judul  \\\n",
       "0  Anthropic Sampai Harus Buka Kantor di India De...   \n",
       "1  Sidang Perdana Gugatan Kelangkaan BBM Shell dk...   \n",
       "2  Respons Rosan Soal Stimulus Likuiditas Pasar M...   \n",
       "3  Kata Jaksa Soal Isi Pemeriksaan 2 Perwakilan G...   \n",
       "4  Daftar Negara Pemilik Emas Terbanyak di Dunia,...   \n",
       "\n",
       "                                                 isi  \\\n",
       "0  Saritha Rai-Bloomberg News Bloomberg, Anthropi...   \n",
       "1  Bloomberg Technoz, Jakarta – Menteri Energi da...   \n",
       "2  Bloomberg Technoz, Jakarta - CEO Badan Pengelo...   \n",
       "3  Bloomberg Technoz, Jakarta - Kejaksaan Agung b...   \n",
       "4  Bloomberg Technoz, Jakarta - Harga emas dunia ...   \n",
       "\n",
       "                                                link  \n",
       "0  https://www.bloombergtechnoz.com/detail-news/8...  \n",
       "1  https://www.bloombergtechnoz.com/detail-news/8...  \n",
       "2  https://www.bloombergtechnoz.com/detail-news/8...  \n",
       "3  https://www.bloombergtechnoz.com/detail-news/8...  \n",
       "4  https://www.bloombergtechnoz.com/detail-news/8...  "
      ]
     },
     "metadata": {},
     "output_type": "display_data"
    }
   ],
   "source": [
    "df = pd.read_csv(\"scraped_news.csv\")\n",
    "print(f\"Jumlah artikel: {len(df)}\")\n",
    "display(df.head())"
   ]
  },
  {
   "cell_type": "markdown",
   "id": "2a89690c",
   "metadata": {},
   "source": [
    "### Analisis Topik dengan indoBERT"
   ]
  },
  {
   "cell_type": "code",
   "execution_count": 21,
   "id": "db5ce372",
   "metadata": {},
   "outputs": [
    {
     "name": "stderr",
     "output_type": "stream",
     "text": [
      "No sentence-transformers model found with name indobenchmark/indobert-base-p1. Creating a new one with mean pooling.\n"
     ]
    },
    {
     "name": "stdout",
     "output_type": "stream",
     "text": [
      "Distribusi label:\n",
      "predicted_label\n",
      " 0    16\n",
      " 1    11\n",
      "-1     9\n",
      "Name: count, dtype: int64\n"
     ]
    },
    {
     "data": {
      "text/html": [
       "<div>\n",
       "<style scoped>\n",
       "    .dataframe tbody tr th:only-of-type {\n",
       "        vertical-align: middle;\n",
       "    }\n",
       "\n",
       "    .dataframe tbody tr th {\n",
       "        vertical-align: top;\n",
       "    }\n",
       "\n",
       "    .dataframe thead th {\n",
       "        text-align: right;\n",
       "    }\n",
       "</style>\n",
       "<table border=\"1\" class=\"dataframe\">\n",
       "  <thead>\n",
       "    <tr style=\"text-align: right;\">\n",
       "      <th></th>\n",
       "      <th>judul</th>\n",
       "      <th>predicted_label</th>\n",
       "    </tr>\n",
       "  </thead>\n",
       "  <tbody>\n",
       "    <tr>\n",
       "      <th>0</th>\n",
       "      <td>Anthropic Sampai Harus Buka Kantor di India De...</td>\n",
       "      <td>1</td>\n",
       "    </tr>\n",
       "    <tr>\n",
       "      <th>1</th>\n",
       "      <td>Sidang Perdana Gugatan Kelangkaan BBM Shell dk...</td>\n",
       "      <td>0</td>\n",
       "    </tr>\n",
       "    <tr>\n",
       "      <th>2</th>\n",
       "      <td>Respons Rosan Soal Stimulus Likuiditas Pasar M...</td>\n",
       "      <td>0</td>\n",
       "    </tr>\n",
       "    <tr>\n",
       "      <th>3</th>\n",
       "      <td>Kata Jaksa Soal Isi Pemeriksaan 2 Perwakilan G...</td>\n",
       "      <td>0</td>\n",
       "    </tr>\n",
       "    <tr>\n",
       "      <th>4</th>\n",
       "      <td>Daftar Negara Pemilik Emas Terbanyak di Dunia,...</td>\n",
       "      <td>1</td>\n",
       "    </tr>\n",
       "    <tr>\n",
       "      <th>5</th>\n",
       "      <td>Purbaya akan Suntik Dana ke Bank DKI &amp; Bank Ja...</td>\n",
       "      <td>0</td>\n",
       "    </tr>\n",
       "    <tr>\n",
       "      <th>6</th>\n",
       "      <td>Menkum Soroti Ketimpangan Royalti dari Spotify...</td>\n",
       "      <td>0</td>\n",
       "    </tr>\n",
       "    <tr>\n",
       "      <th>7</th>\n",
       "      <td>Bahlil Paraf Draf Perpres Pengolahan Sampah Ja...</td>\n",
       "      <td>0</td>\n",
       "    </tr>\n",
       "    <tr>\n",
       "      <th>8</th>\n",
       "      <td>Fenomena Gray Divorce: Perceraian di Umur 50 T...</td>\n",
       "      <td>-1</td>\n",
       "    </tr>\n",
       "    <tr>\n",
       "      <th>9</th>\n",
       "      <td>Freeport Sebut Nego Divestasi Masih Jalan Mesk...</td>\n",
       "      <td>0</td>\n",
       "    </tr>\n",
       "  </tbody>\n",
       "</table>\n",
       "</div>"
      ],
      "text/plain": [
       "                                               judul  predicted_label\n",
       "0  Anthropic Sampai Harus Buka Kantor di India De...                1\n",
       "1  Sidang Perdana Gugatan Kelangkaan BBM Shell dk...                0\n",
       "2  Respons Rosan Soal Stimulus Likuiditas Pasar M...                0\n",
       "3  Kata Jaksa Soal Isi Pemeriksaan 2 Perwakilan G...                0\n",
       "4  Daftar Negara Pemilik Emas Terbanyak di Dunia,...                1\n",
       "5  Purbaya akan Suntik Dana ke Bank DKI & Bank Ja...                0\n",
       "6  Menkum Soroti Ketimpangan Royalti dari Spotify...                0\n",
       "7  Bahlil Paraf Draf Perpres Pengolahan Sampah Ja...                0\n",
       "8  Fenomena Gray Divorce: Perceraian di Umur 50 T...               -1\n",
       "9  Freeport Sebut Nego Divestasi Masih Jalan Mesk...                0"
      ]
     },
     "metadata": {},
     "output_type": "display_data"
    }
   ],
   "source": [
    "# menggabungkan judul dan isi untuk analisis topik\n",
    "docs = (df['judul'].fillna('') + '. ' + df['isi'].fillna('')).tolist()\n",
    "\n",
    "# menggunakan IndoBERT sebagai embedding model\n",
    "embedding_model = SentenceTransformer('indobenchmark/indobert-base-p1')\n",
    "\n",
    "topic_model = BERTopic(embedding_model=embedding_model, umap_model=None, language='indonesian')\n",
    "topics, probs = topic_model.fit_transform(docs)\n",
    "\n",
    "df['predicted_label'] = topics\n",
    "print('Distribusi label:')\n",
    "print(df['predicted_label'].value_counts())\n",
    "display(df[['judul','predicted_label']].head(10))"
   ]
  },
  {
   "cell_type": "markdown",
   "id": "d6718c37",
   "metadata": {},
   "source": [
    "Berdasarkan hasil print pada kode cell sebelumnya, dapat dilihat terbentuk 3 predicted label yaitu -1,0, 1 dengan -1 yang merupakan outlier dimana konten atau artikel yang -1 tidak dapat dikelompokkan"
   ]
  },
  {
   "cell_type": "code",
   "execution_count": 22,
   "id": "cea7b58b",
   "metadata": {},
   "outputs": [],
   "source": [
    "#simpan hasil klasifikasi ke CSV\n",
    "out = df.rename(columns={\"judul\": \"title\", \"isi\": \"content\"})[[\"title\", \"content\", \"predicted_label\"]]\n",
    "out.to_csv(\"classification_results.csv\", index=False, encoding=\"utf-8-sig\")"
   ]
  },
  {
   "cell_type": "code",
   "execution_count": 23,
   "id": "d61f8032",
   "metadata": {},
   "outputs": [
    {
     "data": {
      "image/png": "[encoded data removed]",
      "text/plain": [
       "<Figure size 600x400 with 1 Axes>"
      ]
     },
     "metadata": {},
     "output_type": "display_data"
    }
   ],
   "source": [
    "# Visualisasi distribusi artikel per label\n",
    "import matplotlib.pyplot as plt\n",
    "plt.figure(figsize=(6,4))\n",
    "df[\"predicted_label\"].value_counts().sort_index().plot(kind=\"bar\", color=\"skyblue\")\n",
    "plt.title(\"Distribusi Artikel per Label (BERTopic)\")\n",
    "plt.xlabel(\"Label Topik\")\n",
    "plt.ylabel(\"Jumlah Artikel\")\n",
    "plt.tight_layout()\n",
    "plt.show()"
   ]
  },
  {
   "cell_type": "code",
   "execution_count": 25,
   "id": "17366990",
   "metadata": {},
   "outputs": [
    {
     "data": {
      "text/html": [
       "<div>\n",
       "<style scoped>\n",
       "    .dataframe tbody tr th:only-of-type {\n",
       "        vertical-align: middle;\n",
       "    }\n",
       "\n",
       "    .dataframe tbody tr th {\n",
       "        vertical-align: top;\n",
       "    }\n",
       "\n",
       "    .dataframe thead th {\n",
       "        text-align: right;\n",
       "    }\n",
       "</style>\n",
       "<table border=\"1\" class=\"dataframe\">\n",
       "  <thead>\n",
       "    <tr style=\"text-align: right;\">\n",
       "      <th></th>\n",
       "      <th>title</th>\n",
       "      <th>content</th>\n",
       "      <th>predicted_label</th>\n",
       "    </tr>\n",
       "  </thead>\n",
       "  <tbody>\n",
       "    <tr>\n",
       "      <th>0</th>\n",
       "      <td>Anthropic Sampai Harus Buka Kantor di India De...</td>\n",
       "      <td>Saritha Rai-Bloomberg News Bloomberg, Anthropi...</td>\n",
       "      <td>1</td>\n",
       "    </tr>\n",
       "    <tr>\n",
       "      <th>1</th>\n",
       "      <td>Sidang Perdana Gugatan Kelangkaan BBM Shell dk...</td>\n",
       "      <td>Bloomberg Technoz, Jakarta – Menteri Energi da...</td>\n",
       "      <td>0</td>\n",
       "    </tr>\n",
       "    <tr>\n",
       "      <th>2</th>\n",
       "      <td>Respons Rosan Soal Stimulus Likuiditas Pasar M...</td>\n",
       "      <td>Bloomberg Technoz, Jakarta - CEO Badan Pengelo...</td>\n",
       "      <td>0</td>\n",
       "    </tr>\n",
       "    <tr>\n",
       "      <th>3</th>\n",
       "      <td>Kata Jaksa Soal Isi Pemeriksaan 2 Perwakilan G...</td>\n",
       "      <td>Bloomberg Technoz, Jakarta - Kejaksaan Agung b...</td>\n",
       "      <td>0</td>\n",
       "    </tr>\n",
       "    <tr>\n",
       "      <th>4</th>\n",
       "      <td>Daftar Negara Pemilik Emas Terbanyak di Dunia,...</td>\n",
       "      <td>Bloomberg Technoz, Jakarta - Harga emas dunia ...</td>\n",
       "      <td>1</td>\n",
       "    </tr>\n",
       "    <tr>\n",
       "      <th>5</th>\n",
       "      <td>Purbaya akan Suntik Dana ke Bank DKI &amp; Bank Ja...</td>\n",
       "      <td>Bloomberg Technoz, Jakarta - Menteri Keuangan ...</td>\n",
       "      <td>0</td>\n",
       "    </tr>\n",
       "    <tr>\n",
       "      <th>6</th>\n",
       "      <td>Menkum Soroti Ketimpangan Royalti dari Spotify...</td>\n",
       "      <td>Bloomberg Technoz, Jakarta - Penerimaan royalt...</td>\n",
       "      <td>0</td>\n",
       "    </tr>\n",
       "    <tr>\n",
       "      <th>7</th>\n",
       "      <td>Bahlil Paraf Draf Perpres Pengolahan Sampah Ja...</td>\n",
       "      <td>Bloomberg Technoz, Jakarta - Menteri Energi da...</td>\n",
       "      <td>0</td>\n",
       "    </tr>\n",
       "    <tr>\n",
       "      <th>8</th>\n",
       "      <td>Fenomena Gray Divorce: Perceraian di Umur 50 T...</td>\n",
       "      <td>Bloomberg Technoz, Jakarta - Fenomena gray div...</td>\n",
       "      <td>-1</td>\n",
       "    </tr>\n",
       "    <tr>\n",
       "      <th>9</th>\n",
       "      <td>Freeport Sebut Nego Divestasi Masih Jalan Mesk...</td>\n",
       "      <td>Bloomberg Technoz, Jakarta - Presiden Direktur...</td>\n",
       "      <td>0</td>\n",
       "    </tr>\n",
       "  </tbody>\n",
       "</table>\n",
       "</div>"
      ],
      "text/plain": [
       "                                               title  \\\n",
       "0  Anthropic Sampai Harus Buka Kantor di India De...   \n",
       "1  Sidang Perdana Gugatan Kelangkaan BBM Shell dk...   \n",
       "2  Respons Rosan Soal Stimulus Likuiditas Pasar M...   \n",
       "3  Kata Jaksa Soal Isi Pemeriksaan 2 Perwakilan G...   \n",
       "4  Daftar Negara Pemilik Emas Terbanyak di Dunia,...   \n",
       "5  Purbaya akan Suntik Dana ke Bank DKI & Bank Ja...   \n",
       "6  Menkum Soroti Ketimpangan Royalti dari Spotify...   \n",
       "7  Bahlil Paraf Draf Perpres Pengolahan Sampah Ja...   \n",
       "8  Fenomena Gray Divorce: Perceraian di Umur 50 T...   \n",
       "9  Freeport Sebut Nego Divestasi Masih Jalan Mesk...   \n",
       "\n",
       "                                             content  predicted_label  \n",
       "0  Saritha Rai-Bloomberg News Bloomberg, Anthropi...                1  \n",
       "1  Bloomberg Technoz, Jakarta – Menteri Energi da...                0  \n",
       "2  Bloomberg Technoz, Jakarta - CEO Badan Pengelo...                0  \n",
       "3  Bloomberg Technoz, Jakarta - Kejaksaan Agung b...                0  \n",
       "4  Bloomberg Technoz, Jakarta - Harga emas dunia ...                1  \n",
       "5  Bloomberg Technoz, Jakarta - Menteri Keuangan ...                0  \n",
       "6  Bloomberg Technoz, Jakarta - Penerimaan royalt...                0  \n",
       "7  Bloomberg Technoz, Jakarta - Menteri Energi da...                0  \n",
       "8  Bloomberg Technoz, Jakarta - Fenomena gray div...               -1  \n",
       "9  Bloomberg Technoz, Jakarta - Presiden Direktur...                0  "
      ]
     },
     "execution_count": 25,
     "metadata": {},
     "output_type": "execute_result"
    }
   ],
   "source": [
    "out.head(10)"
   ]
  },
  {
   "cell_type": "markdown",
   "id": "5a0a5d1b",
   "metadata": {},
   "source": [
    "Dari analisis topik dengan BERTopic dan indoBERT tersebut, dapat dilihat berhasil melakukan distribusi label dimana sebagian artikel dan isi kontennya terklasifikasi ke label 0 dan label 1."
   ]
  }
 ],
 "metadata": {
  "kernelspec": {
   "display_name": "base",
   "language": "python",
   "name": "python3"
  },
  "language_info": {
   "codemirror_mode": {
    "name": "ipython",
    "version": 3
   },
   "file_extension": ".py",
   "mimetype": "text/x-python",
   "name": "python",
   "nbconvert_exporter": "python",
   "pygments_lexer": "ipython3",
   "version": "3.12.7"
  }
 },
 "nbformat": 4,
 "nbformat_minor": 5
}
